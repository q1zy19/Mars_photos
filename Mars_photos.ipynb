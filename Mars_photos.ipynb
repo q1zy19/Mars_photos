{
 "cells": [
  {
   "cell_type": "code",
   "execution_count": 19,
   "id": "95b78ed5",
   "metadata": {
    "scrolled": false
   },
   "outputs": [
    {
     "data": {
      "text/html": [
       "<img src=\"https://mars.nasa.gov/mars2020-raw-images/pub/ods/surface/sol/00648/ids/edr/browse/ncam/NLF_0648_0724475546_226ECM_N0320000NCAM02648_07_195J01_1200.jpg\"/>"
      ],
      "text/plain": [
       "<IPython.core.display.Image object>"
      ]
     },
     "metadata": {},
     "output_type": "display_data"
    },
    {
     "data": {
      "text/html": [
       "<img src=\"https://mars.nasa.gov/mars2020-raw-images/pub/ods/surface/sol/00648/ids/edr/browse/ncam/NLF_0648_0724475398_042ECM_N0320000NCAM02648_01_195J01_1200.jpg\"/>"
      ],
      "text/plain": [
       "<IPython.core.display.Image object>"
      ]
     },
     "metadata": {},
     "output_type": "display_data"
    },
    {
     "data": {
      "text/html": [
       "<img src=\"https://mars.nasa.gov/mars2020-raw-images/pub/ods/surface/sol/00648/ids/edr/browse/ncam/NLF_0648_0724475398_042ECM_N0320000NCAM02648_04_195J01_1200.jpg\"/>"
      ],
      "text/plain": [
       "<IPython.core.display.Image object>"
      ]
     },
     "metadata": {},
     "output_type": "display_data"
    }
   ],
   "source": [
    "import requests\n",
    "import json\n",
    "from IPython.display import Image\n",
    "api_key = \"WWg98C3ZfteBkgsjfJKTUZvahKqvpVVN5A9qQTtV\"\n",
    "\n",
    "rover_name = \"perseverance\"\n",
    "earth_date = \"2022-12-15\"\n",
    "page_num = 1\n",
    "img_count = 3\n",
    "\n",
    "url = f\"https://api.nasa.gov/mars-photos/api/v1/rovers/{rover_name}/photos?earth_date={earth_date}&page={page_num}&api_key={api_key}\"\n",
    "\n",
    "response = requests.get(url)\n",
    "data = json.loads(response.text)\n",
    "\n",
    "img_urls = [img[\"img_src\"] for img in data[\"photos\"][:img_count]]\n",
    "\n",
    "for img in img_urls:\n",
    "    display(Image(url=img))"
   ]
  },
  {
   "cell_type": "code",
   "execution_count": 18,
   "id": "e899c960",
   "metadata": {},
   "outputs": [
    {
     "data": {
      "text/plain": [
       "['https://mars.nasa.gov/mars2020-raw-images/pub/ods/surface/sol/00648/ids/edr/browse/ncam/NLF_0648_0724475546_226ECM_N0320000NCAM02648_07_195J01_1200.jpg',\n",
       " 'https://mars.nasa.gov/mars2020-raw-images/pub/ods/surface/sol/00648/ids/edr/browse/ncam/NLF_0648_0724475398_042ECM_N0320000NCAM02648_01_195J01_1200.jpg',\n",
       " 'https://mars.nasa.gov/mars2020-raw-images/pub/ods/surface/sol/00648/ids/edr/browse/ncam/NLF_0648_0724475398_042ECM_N0320000NCAM02648_04_195J01_1200.jpg']"
      ]
     },
     "execution_count": 18,
     "metadata": {},
     "output_type": "execute_result"
    }
   ],
   "source": [
    "img_urls"
   ]
  },
  {
   "cell_type": "code",
   "execution_count": null,
   "id": "21a0e106",
   "metadata": {},
   "outputs": [],
   "source": []
  }
 ],
 "metadata": {
  "kernelspec": {
   "display_name": "Python 3 (ipykernel)",
   "language": "python",
   "name": "python3"
  },
  "language_info": {
   "codemirror_mode": {
    "name": "ipython",
    "version": 3
   },
   "file_extension": ".py",
   "mimetype": "text/x-python",
   "name": "python",
   "nbconvert_exporter": "python",
   "pygments_lexer": "ipython3",
   "version": "3.9.7"
  }
 },
 "nbformat": 4,
 "nbformat_minor": 5
}
